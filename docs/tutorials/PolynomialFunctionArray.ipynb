{
 "cells": [
  {
   "metadata": {},
   "cell_type": "raw",
   "source": [
    "Polynomial Fit Function Array Tutorial\n",
    "==============================\n",
    "\n",
    "A demonstration of defining creating a function array, fitting a polynomial to it, and then comparing\n",
    "the fit if a different degree polynomial is used.\n",
    "\n"
   ],
   "id": "33c91c6520a84dfb"
  },
  {
   "metadata": {},
   "cell_type": "code",
   "outputs": [],
   "execution_count": null,
   "source": [
    "import named_arrays as na\n",
    "import astropy.units as u"
   ],
   "id": "887eedc318fabcad"
  },
  {
   "metadata": {},
   "cell_type": "code",
   "source": [
    "inputs = na.SpectralPositionalVectorLinearSpace(\n",
    "    start=na.SpectralPositionalVectorArray(\n",
    "        wavelength=610 * u.AA,\n",
    "        position=na.Cartesian2dVectorArray(\n",
    "            x=-50 * u.arcsec,\n",
    "            y=-50 * u.arcsec,\n",
    "        )\n",
    "    ),\n",
    "    stop=na.SpectralPositionalVectorArray(\n",
    "        wavelength=650 * u.AA,\n",
    "        position=na.Cartesian2dVectorArray(\n",
    "            x=50 * u.arcsec,\n",
    "            y=50 * u.arcsec,\n",
    "        )\n",
    "    ),\n",
    "    num=na.SpectralPositionalVectorArray(\n",
    "        wavelength=5,\n",
    "        position=na.Cartesian2dVectorArray(\n",
    "            x=51,\n",
    "            y=51,\n",
    "        ),\n",
    "    ),\n",
    "    axis=na.SpectralPositionalVectorArray(\n",
    "        wavelength='wavelength',\n",
    "        position=na.Cartesian2dVectorArray(\n",
    "            x='x',\n",
    "            y='y',\n",
    "        ),\n",
    "    ),\n",
    ")\n",
    "\n",
    "inputs"
   ],
   "id": "1393884e560bc1b9",
   "outputs": [],
   "execution_count": null
  },
  {
   "metadata": {},
   "cell_type": "code",
   "source": [
    "t = na.ScalarLinearSpace(-10 * u.s, 10 * u.s, num=3, axis='time')\n",
    "outputs = na.Cartesian2dVectorArray(\n",
    "    x=1 * u.mm + (u.mm / u.arcsec) * inputs.position.x + .001 * u.mm / (u.arcsec ** 2) * (\n",
    "        inputs.position.y) ** 2 - 1 * (\n",
    "              u.mm / u.AA) * inputs.wavelength,\n",
    "    y=5 * u.mm + t * (\n",
    "            u.mm / (u.arcsec * u.s)) * inputs.position.y + .05 * u.mm / (u.arcsec ** 2) * (inputs.position.x) ** 2,\n",
    ")\n",
    "\n",
    "outputs"
   ],
   "id": "3734706d26357898",
   "outputs": [],
   "execution_count": null
  },
  {
   "metadata": {},
   "cell_type": "code",
   "source": [
    "fit = na.PolynomialFitFunctionArray(\n",
    "    inputs=inputs,\n",
    "    outputs=outputs,\n",
    "    degree=2,\n",
    "    components_polynomial=('position_x', 'position_y'),\n",
    "    axis_polynomial=('x', 'y'),\n",
    ")"
   ],
   "id": "6a2b44484163c4ad",
   "outputs": [],
   "execution_count": null
  },
  {
   "metadata": {},
   "cell_type": "code",
   "source": "fit.coefficients ",
   "id": "e983491bdfef5275",
   "outputs": [],
   "execution_count": null
  },
  {
   "metadata": {},
   "cell_type": "code",
   "source": [
    "fit_linear = na.PolynomialFitFunctionArray(\n",
    "    inputs=inputs,\n",
    "    outputs=outputs,\n",
    "    degree=1,\n",
    "    components_polynomial=('position_x', 'position_y'),\n",
    "    axis_polynomial=('x', 'y'),\n",
    ")\n",
    "best_fit = fit_linear(fit.inputs)"
   ],
   "id": "5d8fe6270948c56b",
   "outputs": [],
   "execution_count": null
  },
  {
   "metadata": {},
   "cell_type": "code",
   "source": "best_fit",
   "id": "fb0d6e9634e14437",
   "outputs": [],
   "execution_count": null
  },
  {
   "metadata": {},
   "cell_type": "code",
   "source": "",
   "id": "4c2f891801be4bd5",
   "outputs": [],
   "execution_count": null
  }
 ],
 "metadata": {
  "kernelspec": {
   "display_name": "Python 3",
   "language": "python",
   "name": "python3"
  },
  "language_info": {
   "codemirror_mode": {
    "name": "ipython",
    "version": 2
   },
   "file_extension": ".py",
   "mimetype": "text/x-python",
   "name": "python",
   "nbconvert_exporter": "python",
   "pygments_lexer": "ipython2",
   "version": "2.7.6"
  }
 },
 "nbformat": 4,
 "nbformat_minor": 5
}
